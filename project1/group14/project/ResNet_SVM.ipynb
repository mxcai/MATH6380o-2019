{
 "cells": [
  {
   "cell_type": "code",
   "execution_count": null,
   "metadata": {},
   "outputs": [],
   "source": [
    "from PIL import Image\n",
    "import numpy as np\n",
    "import os\n",
    "import matplotlib.pyplot as plt\n",
    "import torch\n",
    "import torch.nn as nn\n",
    "import torch.optim as optim\n",
    "from torch.optim import lr_scheduler\n",
    "import numpy as np\n",
    "import torchvision\n",
    "from torchvision import datasets, models, transforms,utils\n",
    "import pickle\n",
    "from skimage.filters.rank import entropy\n",
    "from skimage.morphology import disk\n",
    "from sklearn.model_selection import cross_val_score\n",
    "from sklearn.svm import SVC\n",
    "from sklearn.model_selection import GroupKFold\n",
    "from sklearn.model_selection import StratifiedKFold\n",
    "from sklearn.svm import LinearSVC\n",
    "from sklearn.ensemble import RandomForestClassifier\n",
    "import pandas as pd\n",
    "from sklearn import svm\n",
    "from sklearn.linear_model import LogisticRegression\n",
    "from sklearn.model_selection import LeaveOneOut\n",
    "from IPython import display\n",
    "from sklearn.neural_network import MLPClassifier\n",
    "from sklearn import metrics\n",
    "\n",
    "import tensorflow as tf"
   ]
  },
  {
   "cell_type": "code",
   "execution_count": null,
   "metadata": {},
   "outputs": [],
   "source": [
    "# Load data using torch\n",
    "\n",
    "mnist_testset = datasets.MNIST(root='./data', train=False, download=True, transform=transforms.ToTensor())\n",
    "batch_size = 100\n",
    "test_loader = torch.utils.data.DataLoader(dataset=mnist_testset, batch_size=batch_size, shuffle=False)\n",
    "\n",
    "# Load the ResNet-18 model and delete the last FC layer to get a feature extractor\n",
    "device = torch.device(\"cuda:0\" if torch.cuda.is_available() else \"cpu\")\n",
    "model_conv = nn.Sequential(*list(torchvision.models.resnet18(pretrained=True).children())[:-1]).double()\n",
    "for param in model_conv.parameters():\n",
    "        param.requires_grad = False\n",
    "model_conv = model_conv.to(device)\n",
    "model_conv.eval()\n",
    "\n",
    "# Extract the features\n",
    "for batch_idx, (x, target) in enumerate(test_loader):\n",
    "    x = x.repeat(1, 3, 1, 1).double() # Fit the greyscale data to the momdel\n",
    "    print(\"ResNet \"+str(batch_idx)+\"/\"+str(100))\n",
    "    if batch_idx == 0:\n",
    "        test_feat = np.squeeze(model_conv(x).numpy())\n",
    "        test_label = target\n",
    "    else:\n",
    "        test_feat = np.concatenate( ( test_feat, np.squeeze(model_conv(x).numpy()) ), axis=0 )\n",
    "        test_label = np.concatenate((test_label, target), axis=0)\n"
   ]
  },
  {
   "cell_type": "code",
   "execution_count": null,
   "metadata": {
    "scrolled": true
   },
   "outputs": [],
   "source": [
    "#Visualization using PCA\n",
    "\n",
    "from sklearn import decomposition\n",
    "import matplotlib.pyplot as plt\n",
    "from mpl_toolkits.mplot3d import Axes3D\n",
    "\n",
    "fig = plt.figure()\n",
    "ax = fig.add_subplot(111, projection='3d')\n",
    "\n",
    "pca = decomposition.PCA(n_components=3)\n",
    "feat_PCA = pca.fit_transform(test_feat)\n",
    "\n",
    "# Choose the first 500 points and plot the points of digit 0, 7, 8\n",
    "for i in range(0,500):\n",
    "    if test_label[i] == 0:\n",
    "        ax.scatter(feat_PCA[i,0], feat_PCA[i,1], feat_PCA[i,2], c='r', marker='o')\n",
    "    if test_label[i] == 7:\n",
    "        ax.scatter(feat_PCA[i,0], feat_PCA[i,1], feat_PCA[i,2], c='b', marker='o')\n",
    "    if test_label[i] == 8:\n",
    "        ax.scatter(feat_PCA[i,0], feat_PCA[i,1], feat_PCA[i,2], c='y', marker='o')\n",
    "\n",
    "ax.set_xlabel('X Label')\n",
    "ax.set_ylabel('Y Label')\n",
    "ax.set_zlabel('Z Label')\n",
    "\n",
    "plt.show()"
   ]
  },
  {
   "cell_type": "code",
   "execution_count": null,
   "metadata": {},
   "outputs": [],
   "source": [
    "# feature extraction of train data\n",
    "\n",
    "mnist_testset = datasets.MNIST(root='./data', train=True, download=True, transform=transforms.ToTensor())\n",
    "\n",
    "batch_size = 100\n",
    "train_loader = torch.utils.data.DataLoader(dataset=mnist_testset, batch_size=batch_size, shuffle=False)\n",
    "\n",
    "device = torch.device(\"cuda:0\" if torch.cuda.is_available() else \"cpu\")\n",
    "model_conv = nn.Sequential(*list(torchvision.models.resnet18(pretrained=True).children())[:-1]).double()\n",
    "for param in model_conv.parameters():\n",
    "        param.requires_grad = False\n",
    "model_conv = model_conv.to(device)\n",
    "model_conv.eval()\n",
    "\n",
    "for batch_idx, (x, target) in enumerate(train_loader):\n",
    "    x = x.repeat(1, 3, 1, 1).double()\n",
    "    print(\"ResNet \"+str(batch_idx)+\"/\"+str(len(train_loader)))\n",
    "    if batch_idx == 0:\n",
    "        train_feat = np.squeeze(model_conv(x).numpy())\n",
    "        train_label = target\n",
    "    else:\n",
    "        train_feat = np.concatenate((train_feat, np.squeeze(model_conv(x).numpy())), axis=0)\n",
    "        train_label = np.concatenate((train_label, target), axis=0)\n",
    "        "
   ]
  },
  {
   "cell_type": "code",
   "execution_count": null,
   "metadata": {},
   "outputs": [],
   "source": [
    "# Train SVM based on the features of the train data\n",
    "\n",
    "from sklearn.svm import SVC\n",
    "clf = SVC(gamma='auto')\n",
    "clf.fit(train_feat, train_label) "
   ]
  },
  {
   "cell_type": "code",
   "execution_count": null,
   "metadata": {},
   "outputs": [],
   "source": [
    "# Classification and print accuracy\n",
    "\n",
    "test_result = clf.predict(test_feat)\n",
    "\n",
    "correct_count = 0\n",
    "for i in np.arange(0,len(test_label)):\n",
    "    if test_result[i] == test_label[i]:\n",
    "        correct_count = correct_count + 1\n",
    "print('accuracy: '+str(correct_count/len(test_label)))\n",
    "        "
   ]
  }
 ],
 "metadata": {
  "kernelspec": {
   "display_name": "Python 3",
   "language": "python",
   "name": "python3"
  },
  "language_info": {
   "codemirror_mode": {
    "name": "ipython",
    "version": 3
   },
   "file_extension": ".py",
   "mimetype": "text/x-python",
   "name": "python",
   "nbconvert_exporter": "python",
   "pygments_lexer": "ipython3",
   "version": "3.7.3"
  }
 },
 "nbformat": 4,
 "nbformat_minor": 2
}
